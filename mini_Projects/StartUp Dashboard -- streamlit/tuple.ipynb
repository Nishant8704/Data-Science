{
 "cells": [
  {
   "cell_type": "code",
   "execution_count": 1,
   "metadata": {},
   "outputs": [],
   "source": [
    "tup1  = (1,2,3,4,'nishant')"
   ]
  },
  {
   "cell_type": "code",
   "execution_count": 2,
   "metadata": {},
   "outputs": [
    {
     "data": {
      "text/plain": [
       "5"
      ]
     },
     "execution_count": 2,
     "metadata": {},
     "output_type": "execute_result"
    }
   ],
   "source": [
    "len(tup1)"
   ]
  },
  {
   "cell_type": "code",
   "execution_count": 3,
   "metadata": {},
   "outputs": [
    {
     "data": {
      "text/plain": [
       "(2, 3, 4)"
      ]
     },
     "execution_count": 3,
     "metadata": {},
     "output_type": "execute_result"
    }
   ],
   "source": [
    "tup1[1:4]"
   ]
  },
  {
   "cell_type": "code",
   "execution_count": null,
   "metadata": {},
   "outputs": [],
   "source": [
    "tup2 = (8,3,54,'Mohit')"
   ]
  },
  {
   "cell_type": "code",
   "execution_count": 51,
   "metadata": {},
   "outputs": [
    {
     "ename": "TypeError",
     "evalue": "'str' object is not callable",
     "output_type": "error",
     "traceback": [
      "\u001b[1;31m---------------------------------------------------------------------------\u001b[0m",
      "\u001b[1;31mTypeError\u001b[0m                                 Traceback (most recent call last)",
      "Cell \u001b[1;32mIn[51], line 8\u001b[0m\n\u001b[0;32m      6\u001b[0m my_tuple \u001b[38;5;241m=\u001b[39m (\u001b[38;5;241m1\u001b[39m, \u001b[38;5;241m2\u001b[39m, \u001b[38;5;241m3\u001b[39m, \u001b[38;5;241m4\u001b[39m, \u001b[38;5;241m5\u001b[39m)\n\u001b[0;32m      7\u001b[0m given_string \u001b[38;5;241m=\u001b[39m \u001b[38;5;124m\"\u001b[39m\u001b[38;5;124mabc\u001b[39m\u001b[38;5;124m\"\u001b[39m\n\u001b[1;32m----> 8\u001b[0m result_list \u001b[38;5;241m=\u001b[39m \u001b[43mtuple_to_list_with_string\u001b[49m\u001b[43m(\u001b[49m\u001b[43mmy_tuple\u001b[49m\u001b[43m,\u001b[49m\u001b[43m \u001b[49m\u001b[43mgiven_string\u001b[49m\u001b[43m)\u001b[49m\n\u001b[0;32m      9\u001b[0m \u001b[38;5;28mprint\u001b[39m(result_list)\n",
      "Cell \u001b[1;32mIn[51], line 3\u001b[0m, in \u001b[0;36mtuple_to_list_with_string\u001b[1;34m(tuple_data, string)\u001b[0m\n\u001b[0;32m      2\u001b[0m \u001b[38;5;28;01mdef\u001b[39;00m \u001b[38;5;21mtuple_to_list_with_string\u001b[39m(tuple_data, string):\n\u001b[1;32m----> 3\u001b[0m     new_list \u001b[38;5;241m=\u001b[39m \u001b[43m[\u001b[49m\u001b[38;5;28;43mstr\u001b[39;49m\u001b[43m(\u001b[49m\u001b[43mitem\u001b[49m\u001b[43m)\u001b[49m\u001b[43m \u001b[49m\u001b[38;5;241;43m+\u001b[39;49m\u001b[43m \u001b[49m\u001b[43mstring\u001b[49m\u001b[43m \u001b[49m\u001b[38;5;28;43;01mfor\u001b[39;49;00m\u001b[43m \u001b[49m\u001b[43mitem\u001b[49m\u001b[43m \u001b[49m\u001b[38;5;129;43;01min\u001b[39;49;00m\u001b[43m \u001b[49m\u001b[43mtuple_data\u001b[49m\u001b[43m]\u001b[49m\n\u001b[0;32m      4\u001b[0m     \u001b[38;5;28;01mreturn\u001b[39;00m new_list\n",
      "Cell \u001b[1;32mIn[51], line 3\u001b[0m, in \u001b[0;36m<listcomp>\u001b[1;34m(.0)\u001b[0m\n\u001b[0;32m      2\u001b[0m \u001b[38;5;28;01mdef\u001b[39;00m \u001b[38;5;21mtuple_to_list_with_string\u001b[39m(tuple_data, string):\n\u001b[1;32m----> 3\u001b[0m     new_list \u001b[38;5;241m=\u001b[39m [\u001b[38;5;28;43mstr\u001b[39;49m\u001b[43m(\u001b[49m\u001b[43mitem\u001b[49m\u001b[43m)\u001b[49m \u001b[38;5;241m+\u001b[39m string \u001b[38;5;28;01mfor\u001b[39;00m item \u001b[38;5;129;01min\u001b[39;00m tuple_data]\n\u001b[0;32m      4\u001b[0m     \u001b[38;5;28;01mreturn\u001b[39;00m new_list\n",
      "\u001b[1;31mTypeError\u001b[0m: 'str' object is not callable"
     ]
    }
   ],
   "source": [
    "# convert tuple into list by adding the fgiven string by every element\n",
    "def tuple_to_list_with_string(tuple_data, string):\n",
    "    new_list = [str(item) + string for item in tuple_data]\n",
    "    return new_list\n",
    "\n",
    "my_tuple = (1, 2, 3, 4, 5)\n",
    "given_string = \"abc\"\n",
    "result_list = tuple_to_list_with_string(my_tuple, given_string)\n",
    "print(result_list)\n",
    "\n"
   ]
  },
  {
   "cell_type": "code",
   "execution_count": 21,
   "metadata": {},
   "outputs": [],
   "source": [
    "l1 = [1,2,3,4]"
   ]
  },
  {
   "cell_type": "code",
   "execution_count": 28,
   "metadata": {},
   "outputs": [
    {
     "name": "stdout",
     "output_type": "stream",
     "text": [
      "((1, 2), (3, 4), (4, 5))\n",
      "\n"
     ]
    }
   ],
   "source": [
    "# convert list of lists to tuple of tuples\n",
    "\n",
    "def list1(list):\n",
    "    return tuple(tuple(inner_list) for inner_list in list)\n",
    "\n",
    "data2  = [[1,2],[3,4],[4,5]]\n",
    "result2  = list1(data2)\n",
    "print(result2)\n",
    "print()"
   ]
  },
  {
   "cell_type": "code",
   "execution_count": 46,
   "metadata": {},
   "outputs": [
    {
     "name": "stdout",
     "output_type": "stream",
     "text": [
      "[1.0, 2.0, 3.0, 4.0, 5.0]\n"
     ]
    }
   ],
   "source": [
    "def tuple_to_float_list(tuple_data):\n",
    "    float_list = [float(item) for item in tuple_data]\n",
    "    return float_list\n",
    "\n",
    "my_tuple = (1, 2, 3, 4, 5)\n",
    "\n",
    "result_list = tuple_to_float_list(my_tuple)\n",
    "\n",
    "print(result_list)\n"
   ]
  },
  {
   "cell_type": "code",
   "execution_count": 48,
   "metadata": {},
   "outputs": [
    {
     "name": "stdout",
     "output_type": "stream",
     "text": [
      "[(1, 3, 2), (5, 2, 4), (4, 8, 6), (7, 1, 9)]\n",
      "[8, 5, 3, 2, 1]\n"
     ]
    }
   ],
   "source": [
    "def sort_by_max_value(tuple_list):\n",
    "    return sorted(tuple_list, key=lambda x: max(x))\n",
    "\n",
    "tuple_list = [(1, 3, 2), (5, 2, 4), (7, 1, 9), (4, 8, 6)]\n",
    "\n",
    "sorted_tuple_list = sort_by_max_value(tuple_list)\n",
    "\n",
    "print(sorted_tuple_list)\n",
    "\n",
    "\n",
    "def sort_tuple_by_max_value(input_tuple):\n",
    "    return sorted(input_tuple, reverse=True)\n",
    "\n",
    "my_tuple = (5, 2, 8, 3, 1)\n",
    "\n",
    "sorted_tuple = sort_tuple_by_max_value(my_tuple)\n",
    "\n",
    "print(sorted_tuple)\n"
   ]
  }
 ],
 "metadata": {
  "kernelspec": {
   "display_name": "Python 3",
   "language": "python",
   "name": "python3"
  },
  "language_info": {
   "codemirror_mode": {
    "name": "ipython",
    "version": 3
   },
   "file_extension": ".py",
   "mimetype": "text/x-python",
   "name": "python",
   "nbconvert_exporter": "python",
   "pygments_lexer": "ipython3",
   "version": "3.11.5"
  }
 },
 "nbformat": 4,
 "nbformat_minor": 2
}
