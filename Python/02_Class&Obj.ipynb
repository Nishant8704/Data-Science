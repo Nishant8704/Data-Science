{
 "cells": [
  {
   "cell_type": "code",
   "execution_count": 2,
   "metadata": {},
   "outputs": [
    {
     "name": "stdout",
     "output_type": "stream",
     "text": [
      "[1, 12, 32]\n",
      "<class 'list'>\n"
     ]
    }
   ],
   "source": [
    "L = [1,12,32]\n",
    "print(L)\n",
    "print(type(L))"
   ]
  },
  {
   "cell_type": "code",
   "execution_count": null,
   "metadata": {},
   "outputs": [],
   "source": [
    "# Syntax to create a Object \n",
    "# objectname = classname()"
   ]
  },
  {
   "cell_type": "code",
   "execution_count": null,
   "metadata": {},
   "outputs": [],
   "source": [
    "# oBject Literals\n",
    "l = [1,2,3]"
   ]
  },
  {
   "cell_type": "code",
   "execution_count": 5,
   "metadata": {},
   "outputs": [
    {
     "data": {
      "text/plain": [
       "list"
      ]
     },
     "execution_count": 5,
     "metadata": {},
     "output_type": "execute_result"
    }
   ],
   "source": [
    "l=  list()\n",
    "type(l)"
   ]
  },
  {
   "cell_type": "code",
   "execution_count": 3,
   "metadata": {},
   "outputs": [],
   "source": [
    "# ATM MACHINE CODE\n",
    "class Atm:\n",
    "    # constructor(Special Function) -> superpower \n",
    "    def __init__(self):\n",
    "        self.pin = ''\n",
    "        self.balance = 0\n",
    "        self.menu()\n",
    "\n",
    "    def menu(self):\n",
    "        user_input = input(\"\"\"\n",
    "        Hi! how can I help You?\n",
    "        1. Press 1 to create pin.\n",
    "        2. Press 2 to Change Pin.\n",
    "        3. press 3 to check balance.\n",
    "        4. press 4 to withdraw\n",
    "        5. Anything else to Exit\n",
    "        \"\"\")\n",
    "\n",
    "        if user_input =='1':\n",
    "            # create pin\n",
    "            self.create_pin()\n",
    "        elif user_input == '2':\n",
    "            # change pin\n",
    "            self.change_pin()\n",
    "        elif user_input =='3':\n",
    "            # check balance\n",
    "            self.check_balance()\n",
    "        elif user_input=='4':\n",
    "            # withdrawal \n",
    "            self.withdrawal()\n",
    "        else:\n",
    "            exit()\n",
    "\n",
    "    def create_pin(self):\n",
    "        user_pin= input(\"Enter your pin\")\n",
    "        self.pin = user_pin\n",
    "\n",
    "        user_balance=int(input(\"Enter your Balance: \"))\n",
    "        self.balance = user_balance\n",
    "        print(\"Pin Created Successfully\")\n",
    "        self.menu()\n",
    "\n",
    "\n",
    "    def change_pin(self):\n",
    "        old_pin = input(\"Enter old Pin\")\n",
    "        if old_pin == self.pin:\n",
    "            #let change the pin\n",
    "            new_pin= input(\"Enter New Pin\")\n",
    "            self.pin = new_pin\n",
    "            print(\"pin change Sucessfully\")\n",
    "            self.menu()\n",
    "        else:\n",
    "            print(\"Invalid Pin\")\n",
    "            self.menu()\n",
    "    \n",
    "\n",
    "    def check_balance(self):\n",
    "        user_pin  = input(\"Enter your PIN: \")\n",
    "        if user_pin  == self.pin:\n",
    "            print(\"Your balance is \",self.balance)\n",
    "            self.menu()\n",
    "        else:\n",
    "            print(\"Sorry invalid PIN\")\n",
    "            self.menu()\n",
    "    \n",
    "\n",
    "    def withdrawal(self):\n",
    "        user_pin = input(\"Enter you Pin: \")\n",
    "        if user_pin==self.pin:\n",
    "            amount = int(input(\"Enter your Amount: \"))\n",
    "            if amount<=self.balance:\n",
    "                print(\"You have credited anount: \",amount)\n",
    "                self.balance = self.balance-amount\n",
    "                self.menu()\n",
    "            else:\n",
    "                print(\"INSUFFICIENT BALANCE.\")\n",
    "                self.menu()\n",
    "        else:\n",
    "            print(\"Sorry You have entered incorrect invalid pin.\")\n",
    "            self.menu()\n",
    "\n"
   ]
  },
  {
   "cell_type": "code",
   "execution_count": 4,
   "metadata": {},
   "outputs": [
    {
     "name": "stdout",
     "output_type": "stream",
     "text": [
      "Pin Created Successfully\n",
      "You have credited anount:  200\n",
      "Your balance is  800\n"
     ]
    },
    {
     "ename": "",
     "evalue": "",
     "output_type": "error",
     "traceback": [
      "\u001b[1;31mThe Kernel crashed while executing code in the the current cell or a previous cell. Please review the code in the cell(s) to identify a possible cause of the failure. Click <a href='https://aka.ms/vscodeJupyterKernelCrash'>here</a> for more info. View Jupyter <a href='command:jupyter.viewOutput'>log</a> for further details."
     ]
    }
   ],
   "source": [
    "obj = Atm()"
   ]
  }
 ],
 "metadata": {
  "kernelspec": {
   "display_name": "Python 3",
   "language": "python",
   "name": "python3"
  },
  "language_info": {
   "codemirror_mode": {
    "name": "ipython",
    "version": 3
   },
   "file_extension": ".py",
   "mimetype": "text/x-python",
   "name": "python",
   "nbconvert_exporter": "python",
   "pygments_lexer": "ipython3",
   "version": "3.11.5"
  }
 },
 "nbformat": 4,
 "nbformat_minor": 2
}
