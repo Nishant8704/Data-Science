{
 "cells": [
  {
   "cell_type": "code",
   "execution_count": 1,
   "metadata": {},
   "outputs": [
    {
     "name": "stdout",
     "output_type": "stream",
     "text": [
      "[1, 12, 32]\n",
      "<class 'list'>\n"
     ]
    }
   ],
   "source": [
    "L = [1,12,32]\n",
    "print(L)\n",
    "print(type(L))"
   ]
  },
  {
   "cell_type": "code",
   "execution_count": null,
   "metadata": {},
   "outputs": [],
   "source": [
    "# Syntax to create a Object \n",
    "# objectname = classname()"
   ]
  },
  {
   "cell_type": "code",
   "execution_count": null,
   "metadata": {},
   "outputs": [],
   "source": [
    "# oBject Literals\n",
    "l = [1,2,3]"
   ]
  },
  {
   "cell_type": "code",
   "execution_count": 5,
   "metadata": {},
   "outputs": [
    {
     "data": {
      "text/plain": [
       "list"
      ]
     },
     "execution_count": 5,
     "metadata": {},
     "output_type": "execute_result"
    }
   ],
   "source": [
    "l=  list()\n",
    "type(l)"
   ]
  },
  {
   "cell_type": "code",
   "execution_count": 8,
   "metadata": {},
   "outputs": [],
   "source": [
    "# ATM MACHINE CODE\n",
    "class Atm:\n",
    "    # constructor(Special Function) -> superpower \n",
    "    def __init__(self):\n",
    "        # print(id(self))\n",
    "        self.pin = ''\n",
    "        self.balance = 0\n",
    "        self.menu()\n",
    "\n",
    "    def menu(self):\n",
    "        user_input = input(\"\"\"\n",
    "        Hi! how can I help You?\n",
    "        1. Press 1 to create pin.\n",
    "        2. Press 2 to Change Pin.\n",
    "        3. press 3 to check balance.\n",
    "        4. press 4 to withdraw\n",
    "        5. Anything else to Exit\n",
    "        \"\"\")\n",
    "\n",
    "        if user_input =='1':\n",
    "            # create pin\n",
    "            self.create_pin()\n",
    "        elif user_input == '2':\n",
    "            # change pin\n",
    "            self.change_pin()\n",
    "        elif user_input =='3':\n",
    "            # check balance\n",
    "            self.check_balance()\n",
    "        elif user_input=='4':\n",
    "            # withdrawal \n",
    "            self.withdrawal()\n",
    "        else:\n",
    "            exit()\n",
    "\n",
    "    def create_pin(self):\n",
    "        user_pin= input(\"Enter your pin\")\n",
    "        self.pin = user_pin\n",
    "\n",
    "        user_balance=int(input(\"Enter your Balance: \"))\n",
    "        self.balance = user_balance\n",
    "        print(\"Pin Created Successfully\")\n",
    "        self.menu()\n",
    "\n",
    "\n",
    "    def change_pin(self):\n",
    "        old_pin = input(\"Enter old Pin\")\n",
    "        if old_pin == self.pin:\n",
    "            #let change the pin\n",
    "            new_pin= input(\"Enter New Pin\")\n",
    "            self.pin = new_pin\n",
    "            print(\"pin change Sucessfully\")\n",
    "            self.menu()\n",
    "        else:\n",
    "            print(\"Invalid Pin\")\n",
    "            self.menu()\n",
    "    \n",
    "\n",
    "    def check_balance(self):\n",
    "        user_pin  = input(\"Enter your PIN: \")\n",
    "        if user_pin  == self.pin:\n",
    "            print(\"Your balance is \",self.balance)\n",
    "            self.menu()\n",
    "        else:\n",
    "            print(\"Sorry invalid PIN\")\n",
    "            self.menu()\n",
    "    \n",
    "\n",
    "    def withdrawal(self):\n",
    "        user_pin = input(\"Enter you Pin: \")\n",
    "        if user_pin==self.pin:\n",
    "            amount = int(input(\"Enter your Amount: \"))\n",
    "            if amount<=self.balance:\n",
    "                print(\"You have credited anount: \",amount)\n",
    "                self.balance = self.balance-amount\n",
    "                self.menu()\n",
    "            else:\n",
    "                print(\"INSUFFICIENT BALANCE.\")\n",
    "                self.menu()\n",
    "        else:\n",
    "            print(\"Sorry You have entered incorrect invalid pin.\")\n",
    "            self.menu()\n",
    "\n"
   ]
  },
  {
   "cell_type": "code",
   "execution_count": 9,
   "metadata": {},
   "outputs": [
    {
     "name": "stdout",
     "output_type": "stream",
     "text": [
      "Pin Created Successfully\n",
      "Your balance is  1000\n"
     ]
    },
    {
     "ename": "",
     "evalue": "",
     "output_type": "error",
     "traceback": [
      "\u001b[1;31mThe Kernel crashed while executing code in the the current cell or a previous cell. Please review the code in the cell(s) to identify a possible cause of the failure. Click <a href='https://aka.ms/vscodeJupyterKernelCrash'>here</a> for more info. View Jupyter <a href='command:jupyter.viewOutput'>log</a> for further details."
     ]
    }
   ],
   "source": [
    "obj = Atm()"
   ]
  },
  {
   "cell_type": "code",
   "execution_count": 6,
   "metadata": {},
   "outputs": [
    {
     "data": {
      "text/plain": [
       "1564128439056"
      ]
     },
     "execution_count": 6,
     "metadata": {},
     "output_type": "execute_result"
    }
   ],
   "source": [
    "id(obj)"
   ]
  },
  {
   "cell_type": "code",
   "execution_count": 2,
   "metadata": {},
   "outputs": [
    {
     "name": "stdout",
     "output_type": "stream",
     "text": [
      "hello\n"
     ]
    }
   ],
   "source": [
    "class Temp:\n",
    "\n",
    "    def __init__(self):\n",
    "        print('hello')\n",
    "\n",
    "obj= Temp()"
   ]
  },
  {
   "cell_type": "markdown",
   "metadata": {},
   "source": [
    "FRACTION DATATYPE"
   ]
  },
  {
   "cell_type": "code",
   "execution_count": 31,
   "metadata": {},
   "outputs": [],
   "source": [
    "class Fraction:\n",
    "\n",
    "    #parameterized Constructor\n",
    "    def __init__(self,x,y):\n",
    "        self.num = x\n",
    "        self.den = y\n",
    "    \n",
    "    def __str__(self):\n",
    "        return '{}/{}'.format(self.num,self.den)\n",
    "    \n",
    "    def __add__(self,other):\n",
    "        new_num = self.num*other.den+other.num*self.den\n",
    "        new_den = self.den*other.den\n",
    "\n",
    "        return '{}/{}'.format(new_num,new_den)\n",
    "    \n",
    "    def __sub__(self,other):\n",
    "        new_num = self.num*other.den - other.num*self.den\n",
    "        new_den = self.den*other.den\n",
    "\n",
    "        return '{}/{}'.format(new_num,new_den)\n",
    "    \n",
    "    def __mul__(self,other):\n",
    "        new_num = self.num*other.num\n",
    "        new_den = self.den*other.den\n",
    "\n",
    "        return '{}/{}'.format(new_num,new_den)\n",
    "    \n",
    "    def __truediv__(self,other):\n",
    "        new_num = self.num*other.den\n",
    "        new_den = self.den*other.num \n",
    "\n",
    "        return '{}/{}'.format(new_num,new_den)     \n"
   ]
  },
  {
   "cell_type": "code",
   "execution_count": 32,
   "metadata": {},
   "outputs": [],
   "source": [
    "Fr1 = Fraction(3,4)\n",
    "Fr2 = Fraction(4,5)"
   ]
  },
  {
   "cell_type": "code",
   "execution_count": 34,
   "metadata": {},
   "outputs": [
    {
     "name": "stdout",
     "output_type": "stream",
     "text": [
      "3/4\n",
      "4/5\n",
      "31/20\n",
      "-1/20\n",
      "12/20\n",
      "15/16\n"
     ]
    }
   ],
   "source": [
    "print(Fr1)\n",
    "print(Fr2)\n",
    "print(Fr1+Fr2)\n",
    "print(Fr1-Fr2)\n",
    "print(Fr1*Fr2)\n",
    "print(Fr1/Fr2)"
   ]
  }
 ],
 "metadata": {
  "kernelspec": {
   "display_name": "Python 3",
   "language": "python",
   "name": "python3"
  },
  "language_info": {
   "codemirror_mode": {
    "name": "ipython",
    "version": 3
   },
   "file_extension": ".py",
   "mimetype": "text/x-python",
   "name": "python",
   "nbconvert_exporter": "python",
   "pygments_lexer": "ipython3",
   "version": "3.11.5"
  }
 },
 "nbformat": 4,
 "nbformat_minor": 2
}
