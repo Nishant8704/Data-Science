{
 "cells": [
  {
   "cell_type": "markdown",
   "metadata": {},
   "source": [
    "Write OOP Classes to Handle the following scenarios:\n",
    "*   A user can create and view 2D Cooridante \n",
    "*   A user can find out the distance between 2 Coordinate \n",
    "*   A user can find the distance of a coordinate from origin\n",
    "*   A user can check if a point lies on a given lines\n",
    "*   A user can find the distance between a given 20 point on a given lines"
   ]
  },
  {
   "cell_type": "code",
   "execution_count": 2,
   "metadata": {},
   "outputs": [],
   "source": [
    "class Point:\n",
    "    def __init__(self,x,y):\n",
    "        self.x_cod = x\n",
    "        self.y_cod = y\n",
    "\n",
    "    def __str__(self):\n",
    "        return '<{},{}>'.format(self.x_cod,self.y_cod)\n",
    "    \n",
    "    def euclidean_distance(self,other):\n",
    "        return ((self.x_cod - other.x_cod)**2 + (self.y_cod - other.y_cod)**2)**0.5\n",
    "    \n",
    "    def distance_from_origin(self):\n",
    "        return (self.x_cod**2 + self.y_cod**2)**0.5\n",
    "        # return  self.euclidean_distance(Point(0,0))\n",
    "    \n",
    "\n",
    "\n",
    "# Line ---> Ax + By + C    we have to give A, B , C\n",
    "class Line:\n",
    "    def __init__(self,A,B,C):\n",
    "        self.A = A\n",
    "        self.B = B\n",
    "        self.C = C\n",
    "\n",
    "    def __str__(self):\n",
    "        return '{}x + {}y + {} = 0'.format(self.A,self.B,self.C)\n",
    "    \n",
    "    # class to class interaction so that we can use different paratmeter from different class \n",
    "    def point_on_line(line,point):\n",
    "        if (line.A * point.x_cod + line.B * point.y_cod + line.C) == 0:\n",
    "            return \"Lies in line\"\n",
    "        else:\n",
    "            return \"Point NOT lies on line\"\n",
    "        \n",
    "    def shortest_distance(line,point):\n",
    "        d  =  abs(line.A*point.x_cod + line.B*point.y_cod + line.C)/(line.A**2 + line.B**2)**0.5\n",
    "        return d"
   ]
  },
  {
   "cell_type": "code",
   "execution_count": 18,
   "metadata": {},
   "outputs": [
    {
     "name": "stdout",
     "output_type": "stream",
     "text": [
      "3.1622776601683795\n"
     ]
    },
    {
     "data": {
      "text/plain": [
       "1.4142135623730951"
      ]
     },
     "execution_count": 18,
     "metadata": {},
     "output_type": "execute_result"
    }
   ],
   "source": [
    "p1 = Point(1,1)\n",
    "p2 = Point(4,2)\n",
    "l = p1.euclidean_distance(p2)\n",
    "print(l)\n",
    "# print(p2)\n",
    "p1.distance_from_origin()"
   ]
  },
  {
   "cell_type": "code",
   "execution_count": 3,
   "metadata": {},
   "outputs": [
    {
     "name": "stdout",
     "output_type": "stream",
     "text": [
      "1x + 1y + -2 = 0\n",
      "<1,5>\n"
     ]
    },
    {
     "data": {
      "text/plain": [
       "2.82842712474619"
      ]
     },
     "execution_count": 3,
     "metadata": {},
     "output_type": "execute_result"
    }
   ],
   "source": [
    "# It is for is the point lies on line or not.\n",
    "l1 = Line(1,1,-2)\n",
    "P1 = Point(1,5)\n",
    "print(l1)\n",
    "print(P1)\n",
    "\n",
    "l1.point_on_line(P1)\n",
    "l1.shortest_distance(P1)"
   ]
  },
  {
   "cell_type": "markdown",
   "metadata": {},
   "source": [
    "How OBJECTs access Attributes"
   ]
  },
  {
   "cell_type": "code",
   "execution_count": 4,
   "metadata": {},
   "outputs": [],
   "source": [
    "class Person:\n",
    "\n",
    "    def __init__(self, name_input, country_input):\n",
    "        self.name = name_input\n",
    "        self.country = country_input\n",
    "\n",
    "    def greet(self):\n",
    "        if self.country == \"india\":\n",
    "            print(\"Namaste\",self.name)\n",
    "        else:\n",
    "            print(\"Hello \",self.name)"
   ]
  },
  {
   "cell_type": "code",
   "execution_count": 8,
   "metadata": {},
   "outputs": [
    {
     "name": "stdout",
     "output_type": "stream",
     "text": [
      "Namaste nitish\n"
     ]
    }
   ],
   "source": [
    "p = Person(\"nishant\",\"india\")\n",
    "p.greet()"
   ]
  },
  {
   "cell_type": "markdown",
   "metadata": {},
   "source": [
    "Attribute creation from outside of the class"
   ]
  },
  {
   "cell_type": "code",
   "execution_count": 10,
   "metadata": {},
   "outputs": [
    {
     "data": {
      "text/plain": [
       "'male'"
      ]
     },
     "execution_count": 10,
     "metadata": {},
     "output_type": "execute_result"
    }
   ],
   "source": [
    "p.gender = \"male\"\n",
    "p.gender"
   ]
  },
  {
   "cell_type": "markdown",
   "metadata": {},
   "source": [
    "Refernce Variable \n",
    "*   Reference variable hold the objects\n",
    "*   We can create objects without reference variable as well\n",
    "*   An object can have multiple reference variable \n",
    "*   Assigning a new refernce variable to an existing object does not create a new objects"
   ]
  },
  {
   "cell_type": "code",
   "execution_count": 17,
   "metadata": {},
   "outputs": [],
   "source": [
    "# Object Without a reference\n",
    "class Person:\n",
    "    def __init__(self):\n",
    "        self.name = \"nishant\"\n",
    "        self.gender = \"Male\"\n",
    "\n",
    "# P is a reference variable which hold the memory of person object.\n",
    "p = Person()\n",
    "q = p"
   ]
  },
  {
   "cell_type": "markdown",
   "metadata": {},
   "source": [
    "Here P is not a object it is a refence variable "
   ]
  },
  {
   "cell_type": "code",
   "execution_count": 18,
   "metadata": {},
   "outputs": [
    {
     "name": "stdout",
     "output_type": "stream",
     "text": [
      "1491217423568\n",
      "1491217423568\n"
     ]
    }
   ],
   "source": [
    "# Multiple Refenence\n",
    "print(id(p))\n",
    "print(id(q))"
   ]
  },
  {
   "cell_type": "code",
   "execution_count": 20,
   "metadata": {},
   "outputs": [
    {
     "name": "stdout",
     "output_type": "stream",
     "text": [
      "nishant\n",
      "nishant\n",
      "ankit\n",
      "ankit\n"
     ]
    }
   ],
   "source": [
    "# Change attribute value with the help of 2nd object\n",
    "print(p.name)\n",
    "print(q.name)\n",
    "q.name = 'ankit'\n",
    "print(q.name)\n",
    "print(p.name)\n",
    "# if we change any thing in refence variable then it can automatically change in main and other variable which is pointed at that location."
   ]
  },
  {
   "cell_type": "markdown",
   "metadata": {},
   "source": [
    "Pass By Reference"
   ]
  },
  {
   "cell_type": "code",
   "execution_count": 25,
   "metadata": {},
   "outputs": [
    {
     "name": "stdout",
     "output_type": "stream",
     "text": [
      "My name is nitish and I am a male\n",
      "nishant\n",
      "male\n"
     ]
    }
   ],
   "source": [
    "class Person:\n",
    "\n",
    "    def __init__(self,name,gender):\n",
    "        self.name = name\n",
    "        self.gender = gender\n",
    "\n",
    "# Outside the class --> Function\n",
    "def greet(person):\n",
    "    print(\"My name is\",person.name,\"and I am a\",person.gender)\n",
    "    p1 = Person('nishant','male')\n",
    "    return p1\n",
    "\n",
    "p = Person(\"nitish\",\"male\")\n",
    "x = greet(p)\n",
    "print(x.name)\n",
    "print(x.gender)"
   ]
  },
  {
   "cell_type": "code",
   "execution_count": 27,
   "metadata": {},
   "outputs": [
    {
     "name": "stdout",
     "output_type": "stream",
     "text": [
      "1491217812560\n",
      "1491217812560\n",
      "My name is nitish and I am a male\n",
      "ankit\n",
      "ankit\n"
     ]
    }
   ],
   "source": [
    "class Person:\n",
    "\n",
    "    def __init__(self,name,gender):\n",
    "        self.name = name\n",
    "        self.gender = gender\n",
    "\n",
    "# Outside the class --> Function\n",
    "def greet(person):\n",
    "    print(id(person))\n",
    "    print(\"My name is\",person.name,\"and I am a\",person.gender)\n",
    "    person.name = 'ankit'\n",
    "    print(person.name)\n",
    "\n",
    "p = Person(\"nitish\",\"male\")\n",
    "print(id(p))\n",
    "x = greet(p)\n",
    "print(p.name)"
   ]
  },
  {
   "cell_type": "markdown",
   "metadata": {},
   "source": [
    "Mutability of Object \n",
    "Object are mutable there is no change occur on memory after change in made in it."
   ]
  },
  {
   "cell_type": "code",
   "execution_count": 28,
   "metadata": {},
   "outputs": [
    {
     "name": "stdout",
     "output_type": "stream",
     "text": [
      "1491217734992\n",
      "1491217734992\n"
     ]
    }
   ],
   "source": [
    "class Person:\n",
    "\n",
    "    def __init__(self,name,gender):\n",
    "        self.name = name\n",
    "        self.gender = gender\n",
    "\n",
    "# Outside the class --> Function\n",
    "def greet(person):\n",
    "    person.name = 'ankit'\n",
    "    return person \n",
    "\n",
    "p = Person(\"nitish\",\"male\")\n",
    "print(id(p))\n",
    "p1 = greet(p)\n",
    "print(id(p1))"
   ]
  },
  {
   "cell_type": "markdown",
   "metadata": {},
   "source": [
    "ENCAPSULATIONS"
   ]
  },
  {
   "cell_type": "code",
   "execution_count": 29,
   "metadata": {},
   "outputs": [],
   "source": [
    "# instance var --> python tutor\n",
    "class Person:\n",
    "\n",
    "    def __init__(self,name_input,country_input):\n",
    "        self.name = name_input\n",
    "        self.country = country_input\n",
    "    \n",
    "p1= Person('Nishant','India')\n",
    "p2 = Person('Steve','USA')"
   ]
  },
  {
   "cell_type": "code",
   "execution_count": 31,
   "metadata": {},
   "outputs": [
    {
     "data": {
      "text/plain": [
       "'Nishant'"
      ]
     },
     "execution_count": 31,
     "metadata": {},
     "output_type": "execute_result"
    }
   ],
   "source": [
    "p1.name"
   ]
  },
  {
   "cell_type": "code",
   "execution_count": 1,
   "metadata": {},
   "outputs": [],
   "source": [
    "# ATM MACHINE CODE\n",
    "class Atm:\n",
    "    # constructor(Special Function) -> superpower \n",
    "    def __init__(self):\n",
    "        # print(id(self))\n",
    "        self.pin = ''\n",
    "        self.__balance = 0\n",
    "        # self.menu()\n",
    "\n",
    "    def get_balance(self):\n",
    "        return self.__balance\n",
    "    \n",
    "    def set_balance(self,new_balance):\n",
    "        if type(new_balance)==int:\n",
    "            self.__balance = new_balance\n",
    "        else:\n",
    "            print(\"Beta bhut Marenge\")\n",
    "\n",
    "    def menu(self):\n",
    "        user_input = input(\"\"\"\n",
    "        Hi! how can I help You?\n",
    "        1. Press 1 to create pin.\n",
    "        2. Press 2 to Change Pin.\n",
    "        3. press 3 to check balance.\n",
    "        4. press 4 to withdraw\n",
    "        5. Anything else to Exit\n",
    "        \"\"\")\n",
    "\n",
    "        if user_input =='1':\n",
    "            # create pin\n",
    "            self.create_pin()\n",
    "        elif user_input == '2':\n",
    "            # change pin\n",
    "            self.change_pin()\n",
    "        elif user_input =='3':\n",
    "            # check balance\n",
    "            self.check_balance()\n",
    "        elif user_input=='4':\n",
    "            # withdrawal \n",
    "            self.withdrawal()\n",
    "        else:\n",
    "            exit()\n",
    "\n",
    "    def create_pin(self):\n",
    "        user_pin= input(\"Enter your pin\")\n",
    "        self.pin = user_pin\n",
    "\n",
    "        user_balance=int(input(\"Enter your Balance: \"))\n",
    "        self.__balance = user_balance\n",
    "        print(\"Pin Created Successfully\")\n",
    "        # self.menu()\n",
    "\n",
    "\n",
    "    def change_pin(self):\n",
    "        old_pin = input(\"Enter old Pin\")\n",
    "        if old_pin == self.pin:\n",
    "            #let change the pin\n",
    "            new_pin= input(\"Enter New Pin\")\n",
    "            self.pin = new_pin\n",
    "            print(\"pin change Sucessfully\")\n",
    "            self.menu()\n",
    "        else:\n",
    "            print(\"Invalid Pin\")\n",
    "            self.menu()\n",
    "    \n",
    "\n",
    "    def check_balance(self):\n",
    "        user_pin  = input(\"Enter your PIN: \")\n",
    "        if user_pin  == self.pin:\n",
    "            print(\"Your balance is \",self.__balance)\n",
    "            self.menu()\n",
    "        else:\n",
    "            print(\"Sorry invalid PIN\")\n",
    "            self.menu()\n",
    "    \n",
    "\n",
    "    def withdrawal(self):\n",
    "        user_pin = input(\"Enter you Pin: \")\n",
    "        if user_pin==self.pin:\n",
    "            amount = int(input(\"Enter your Amount: \"))\n",
    "            if amount<=self.__balance:\n",
    "                print(\"You have credited anount: \",amount)\n",
    "                self.__balance = self.__balance-amount\n",
    "                self.menu()\n",
    "            else:\n",
    "                print(\"INSUFFICIENT BALANCE.\")\n",
    "                self.menu()\n",
    "        else:\n",
    "            print(\"Sorry You have entered incorrect invalid pin.\")\n",
    "            self.menu()\n",
    "\n"
   ]
  },
  {
   "cell_type": "code",
   "execution_count": 2,
   "metadata": {},
   "outputs": [],
   "source": [
    "obj = Atm()"
   ]
  },
  {
   "cell_type": "code",
   "execution_count": 3,
   "metadata": {},
   "outputs": [
    {
     "data": {
      "text/plain": [
       "0"
      ]
     },
     "execution_count": 3,
     "metadata": {},
     "output_type": "execute_result"
    }
   ],
   "source": [
    "obj.get_balance()"
   ]
  },
  {
   "cell_type": "code",
   "execution_count": 6,
   "metadata": {},
   "outputs": [
    {
     "name": "stdout",
     "output_type": "stream",
     "text": [
      "Beta bhut Marenge\n"
     ]
    }
   ],
   "source": [
    "obj.set_balance(\"hee\")"
   ]
  },
  {
   "cell_type": "code",
   "execution_count": 7,
   "metadata": {},
   "outputs": [],
   "source": [
    "obj.set_balance(1000)"
   ]
  },
  {
   "cell_type": "code",
   "execution_count": 13,
   "metadata": {},
   "outputs": [
    {
     "name": "stdout",
     "output_type": "stream",
     "text": [
      "Pin Created Successfully\n"
     ]
    }
   ],
   "source": [
    "obj.create_pin()\n",
    "obj.balance = \"heehe\""
   ]
  },
  {
   "cell_type": "code",
   "execution_count": 14,
   "metadata": {},
   "outputs": [
    {
     "name": "stdout",
     "output_type": "stream",
     "text": [
      "You have credited anount:  100\n"
     ]
    },
    {
     "ename": "",
     "evalue": "",
     "output_type": "error",
     "traceback": [
      "\u001b[1;31mThe Kernel crashed while executing code in the the current cell or a previous cell. Please review the code in the cell(s) to identify a possible cause of the failure. Click <a href='https://aka.ms/vscodeJupyterKernelCrash'>here</a> for more info. View Jupyter <a href='command:jupyter.viewOutput'>log</a> for further details."
     ]
    }
   ],
   "source": [
    "# Due to change in balance variable we made it private using __balance\n",
    "obj.withdrawal()"
   ]
  },
  {
   "cell_type": "code",
   "execution_count": null,
   "metadata": {},
   "outputs": [],
   "source": [
    "class Person:\n",
    "    def __init__(self):\n",
    "        self.__name = 'nitish'\n",
    "\n",
    "p1 = Person()\n",
    "p1.__name = \"ankit\""
   ]
  },
  {
   "cell_type": "markdown",
   "metadata": {},
   "source": [
    "List of Objects"
   ]
  },
  {
   "cell_type": "code",
   "execution_count": 10,
   "metadata": {},
   "outputs": [
    {
     "name": "stdout",
     "output_type": "stream",
     "text": [
      "Nishant Male\n",
      "Ankit Male\n",
      "ankita Female\n"
     ]
    }
   ],
   "source": [
    "class Person:\n",
    "\n",
    "    def __init__(self,name,gender):\n",
    "        self.name = name\n",
    "        self.gender = gender\n",
    "\n",
    "p1 = Person(\"Nishant\",\"Male\")\n",
    "p2 = Person(\"Ankit\",\"Male\")\n",
    "p3 = Person(\"ankita\",\"Female\")\n",
    "\n",
    "L = [p1,p2,p3]\n",
    "\n",
    "for i in L:\n",
    "    print(i.name,i.gender)"
   ]
  },
  {
   "cell_type": "code",
   "execution_count": 18,
   "metadata": {},
   "outputs": [
    {
     "name": "stdout",
     "output_type": "stream",
     "text": [
      "p1 Nishant Male\n",
      "p2 Ankit Male\n",
      "p3 ankita Female\n"
     ]
    }
   ],
   "source": [
    "class Person:\n",
    "\n",
    "    def __init__(self,name,gender):\n",
    "        self.name = name\n",
    "        self.gender = gender\n",
    "\n",
    "p1 = Person(\"Nishant\",\"Male\")\n",
    "p2 = Person(\"Ankit\",\"Male\")\n",
    "p3 = Person(\"ankita\",\"Female\")\n",
    "\n",
    "d = {'p1':p1,'p2':p2,'p3':p3}\n",
    "for i in d:\n",
    "    print(i, d[i].name, d[i].gender)"
   ]
  },
  {
   "cell_type": "markdown",
   "metadata": {},
   "source": [
    "Static Keywords V/S  Instance Variable"
   ]
  },
  {
   "cell_type": "code",
   "execution_count": 52,
   "metadata": {},
   "outputs": [],
   "source": [
    "# ATM MACHINE CODE\n",
    "class Atm:\n",
    "\n",
    "    # Definig static variable \n",
    "    __counter = 1\n",
    "\n",
    "    # constructor(Special Function) -> superpower \n",
    "    def __init__(self):\n",
    "        # print(id(self))\n",
    "        self.pin = ''\n",
    "        self.__balance = 0\n",
    "        self.cid = Atm.__counter\n",
    "        Atm.__counter+=1\n",
    "        # self.menu()\n",
    "\n",
    "    @ staticmethod\n",
    "    def get_counter():\n",
    "        return Atm.__counter\n",
    "\n",
    "    def get_balance(self):\n",
    "        return self.__balance\n",
    "    \n",
    "    def set_balance(self,new_balance):\n",
    "        if type(new_balance)==int:\n",
    "            self.__balance = new_balance\n",
    "        else:\n",
    "            print(\"Beta bhut Marenge\")\n",
    "\n",
    "    def menu(self):\n",
    "        user_input = input(\"\"\"\n",
    "        Hi! how can I help You?\n",
    "        1. Press 1 to create pin.\n",
    "        2. Press 2 to Change Pin.\n",
    "        3. press 3 to check balance.\n",
    "        4. press 4 to withdraw\n",
    "        5. Anything else to Exit\n",
    "        \"\"\")\n",
    "\n",
    "        if user_input =='1':\n",
    "            # create pin\n",
    "            self.create_pin()\n",
    "        elif user_input == '2':\n",
    "            # change pin\n",
    "            self.change_pin()\n",
    "        elif user_input =='3':\n",
    "            # check balance\n",
    "            self.check_balance()\n",
    "        elif user_input=='4':\n",
    "            # withdrawal \n",
    "            self.withdrawal()\n",
    "        else:\n",
    "            exit()\n",
    "\n",
    "    def create_pin(self):\n",
    "        user_pin= input(\"Enter your pin\")\n",
    "        self.pin = user_pin\n",
    "\n",
    "        user_balance=int(input(\"Enter your Balance: \"))\n",
    "        self.__balance = user_balance\n",
    "        print(\"Pin Created Successfully\")\n",
    "        # self.menu()\n",
    "\n",
    "\n",
    "    def change_pin(self):\n",
    "        old_pin = input(\"Enter old Pin\")\n",
    "        if old_pin == self.pin:\n",
    "            #let change the pin\n",
    "            new_pin= input(\"Enter New Pin\")\n",
    "            self.pin = new_pin\n",
    "            print(\"pin change Sucessfully\")\n",
    "            self.menu()\n",
    "        else:\n",
    "            print(\"Invalid Pin\")\n",
    "            self.menu()\n",
    "    \n",
    "\n",
    "    def check_balance(self):\n",
    "        user_pin  = input(\"Enter your PIN: \")\n",
    "        if user_pin  == self.pin:\n",
    "            print(\"Your balance is \",self.__balance)\n",
    "            self.menu()\n",
    "        else:\n",
    "            print(\"Sorry invalid PIN\")\n",
    "            self.menu()\n",
    "    \n",
    "\n",
    "    def withdrawal(self):\n",
    "        user_pin = input(\"Enter you Pin: \")\n",
    "        if user_pin==self.pin:\n",
    "            amount = int(input(\"Enter your Amount: \"))\n",
    "            if amount<=self.__balance:\n",
    "                print(\"You have credited anount: \",amount)\n",
    "                self.__balance = self.__balance-amount\n",
    "                self.menu()\n",
    "            else:\n",
    "                print(\"INSUFFICIENT BALANCE.\")\n",
    "                self.menu()\n",
    "        else:\n",
    "            print(\"Sorry You have entered incorrect invalid pin.\")\n",
    "            self.menu()"
   ]
  },
  {
   "cell_type": "code",
   "execution_count": 44,
   "metadata": {},
   "outputs": [],
   "source": [
    "c1  = Atm()\n"
   ]
  },
  {
   "cell_type": "code",
   "execution_count": 45,
   "metadata": {},
   "outputs": [],
   "source": [
    "c2  = Atm()"
   ]
  },
  {
   "cell_type": "code",
   "execution_count": 46,
   "metadata": {},
   "outputs": [],
   "source": [
    "c3  = Atm()"
   ]
  },
  {
   "cell_type": "code",
   "execution_count": 47,
   "metadata": {},
   "outputs": [
    {
     "data": {
      "text/plain": [
       "4"
      ]
     },
     "execution_count": 47,
     "metadata": {},
     "output_type": "execute_result"
    }
   ],
   "source": [
    "c1.cid"
   ]
  },
  {
   "cell_type": "code",
   "execution_count": 48,
   "metadata": {},
   "outputs": [
    {
     "data": {
      "text/plain": [
       "5"
      ]
     },
     "execution_count": 48,
     "metadata": {},
     "output_type": "execute_result"
    }
   ],
   "source": [
    "c2.cid"
   ]
  },
  {
   "cell_type": "code",
   "execution_count": 49,
   "metadata": {},
   "outputs": [
    {
     "data": {
      "text/plain": [
       "6"
      ]
     },
     "execution_count": 49,
     "metadata": {},
     "output_type": "execute_result"
    }
   ],
   "source": [
    "c3.cid"
   ]
  },
  {
   "cell_type": "code",
   "execution_count": 50,
   "metadata": {},
   "outputs": [
    {
     "data": {
      "text/plain": [
       "7"
      ]
     },
     "execution_count": 50,
     "metadata": {},
     "output_type": "execute_result"
    }
   ],
   "source": [
    "Atm.counter"
   ]
  },
  {
   "cell_type": "code",
   "execution_count": 43,
   "metadata": {},
   "outputs": [],
   "source": [
    "Atm.counter =(\"hee\")    # Make private to counter "
   ]
  }
 ],
 "metadata": {
  "kernelspec": {
   "display_name": "Python 3",
   "language": "python",
   "name": "python3"
  },
  "language_info": {
   "codemirror_mode": {
    "name": "ipython",
    "version": 3
   },
   "file_extension": ".py",
   "mimetype": "text/x-python",
   "name": "python",
   "nbconvert_exporter": "python",
   "pygments_lexer": "ipython3",
   "version": "3.11.5"
  }
 },
 "nbformat": 4,
 "nbformat_minor": 2
}
