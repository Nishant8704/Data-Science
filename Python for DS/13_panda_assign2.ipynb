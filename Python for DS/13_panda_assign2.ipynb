{
  "cells": [
    {
      "cell_type": "code",
      "execution_count": null,
      "metadata": {
        "id": "u7ShJC6QbJOo"
      },
      "outputs": [],
      "source": [
        "\"https://raw.githubusercontent.com/justmarkham/DAT8/master/data/chipotle.tsv\""
      ]
    },
    {
      "cell_type": "code",
      "execution_count": 3,
      "metadata": {},
      "outputs": [
        {
          "name": "stderr",
          "output_type": "stream",
          "text": [
            "C:\\Users\\nisha\\AppData\\Local\\Temp\\ipykernel_8920\\1662815981.py:2: DeprecationWarning: \n",
            "Pyarrow will become a required dependency of pandas in the next major release of pandas (pandas 3.0),\n",
            "(to allow more performant data types, such as the Arrow string type, and better interoperability with other libraries)\n",
            "but was not found to be installed on your system.\n",
            "If this would cause problems for you,\n",
            "please provide us feedback at https://github.com/pandas-dev/pandas/issues/54466\n",
            "        \n",
            "  import pandas as pd\n"
          ]
        }
      ],
      "source": [
        "import numpy as np\n",
        "import pandas as pd"
      ]
    },
    {
      "cell_type": "markdown",
      "metadata": {
        "id": "sM-WXcZmbTCW"
      },
      "source": [
        "## Basic DataFrame\n",
        "\n",
        "Consider the following Python dictionary data and Python list labels:\n",
        "\n",
        "```\n",
        "data = {'birds': ['Cranes', 'Cranes', 'plovers', 'spoonbills', 'spoonbills', 'Cranes', 'plovers', 'Cranes', 'spoonbills', 'spoonbills', 'Cranes'],\n",
        "        'age': [3.5, 4, 1.5, np.nan, 6, 3, 5.5, np.nan, 8, 4, 3.5], 'visits': [2, 4, 3, 4, 3, 4, 2, 2, 3, 2, 2],\n",
        "        'priority': ['yes', 'yes', 'no', np.nan, 'no', 'no', 'no', 'yes', 'no', 'no','yes']}\n",
        "```\n",
        "```\n",
        "labels = ['a', 'b', 'c', 'd', 'e', 'f', 'g', 'h', 'i', 'j', 'k']\n",
        "```"
      ]
    },
    {
      "cell_type": "markdown",
      "metadata": {
        "id": "fbl_dILPbZ9e"
      },
      "source": [
        "###`Q-1:`\n",
        "i. Create a DataFrame birds from the above dictionary data which has the index labels.\n",
        "\n",
        "ii. Display basic information about the dataFrame.\n",
        "\n",
        "iii. Show Alternate rows of the dataframe."
      ]
    },
    {
      "cell_type": "code",
      "execution_count": 6,
      "metadata": {
        "id": "FsGlueHWbZCr"
      },
      "outputs": [],
      "source": [
        "# code here\n",
        "data = {'birds': ['Cranes', 'Cranes', 'plovers', 'spoonbills', 'spoonbills', 'Cranes', 'plovers', 'Cranes', 'spoonbills', 'spoonbills', 'Cranes'],\n",
        "        'age': [3.5, 4, 1.5, np.nan, 6, 3, 5.5, np.nan, 8, 4, 3.5], 'visits': [2, 4, 3, 4, 3, 4, 2, 2, 3, 2, 2],\n",
        "        'priority': ['yes', 'yes', 'no', np.nan, 'no', 'no', 'no', 'yes', 'no', 'no','yes']}"
      ]
    },
    {
      "cell_type": "code",
      "execution_count": 13,
      "metadata": {},
      "outputs": [
        {
          "data": {
            "text/html": [
              "<div>\n",
              "<style scoped>\n",
              "    .dataframe tbody tr th:only-of-type {\n",
              "        vertical-align: middle;\n",
              "    }\n",
              "\n",
              "    .dataframe tbody tr th {\n",
              "        vertical-align: top;\n",
              "    }\n",
              "\n",
              "    .dataframe thead th {\n",
              "        text-align: right;\n",
              "    }\n",
              "</style>\n",
              "<table border=\"1\" class=\"dataframe\">\n",
              "  <thead>\n",
              "    <tr style=\"text-align: right;\">\n",
              "      <th></th>\n",
              "      <th>age</th>\n",
              "      <th>visits</th>\n",
              "      <th>priority</th>\n",
              "    </tr>\n",
              "    <tr>\n",
              "      <th>birds</th>\n",
              "      <th></th>\n",
              "      <th></th>\n",
              "      <th></th>\n",
              "    </tr>\n",
              "  </thead>\n",
              "  <tbody>\n",
              "    <tr>\n",
              "      <th>Cranes</th>\n",
              "      <td>3.5</td>\n",
              "      <td>2</td>\n",
              "      <td>yes</td>\n",
              "    </tr>\n",
              "    <tr>\n",
              "      <th>Cranes</th>\n",
              "      <td>4.0</td>\n",
              "      <td>4</td>\n",
              "      <td>yes</td>\n",
              "    </tr>\n",
              "    <tr>\n",
              "      <th>plovers</th>\n",
              "      <td>1.5</td>\n",
              "      <td>3</td>\n",
              "      <td>no</td>\n",
              "    </tr>\n",
              "    <tr>\n",
              "      <th>spoonbills</th>\n",
              "      <td>NaN</td>\n",
              "      <td>4</td>\n",
              "      <td>NaN</td>\n",
              "    </tr>\n",
              "    <tr>\n",
              "      <th>spoonbills</th>\n",
              "      <td>6.0</td>\n",
              "      <td>3</td>\n",
              "      <td>no</td>\n",
              "    </tr>\n",
              "    <tr>\n",
              "      <th>Cranes</th>\n",
              "      <td>3.0</td>\n",
              "      <td>4</td>\n",
              "      <td>no</td>\n",
              "    </tr>\n",
              "    <tr>\n",
              "      <th>plovers</th>\n",
              "      <td>5.5</td>\n",
              "      <td>2</td>\n",
              "      <td>no</td>\n",
              "    </tr>\n",
              "    <tr>\n",
              "      <th>Cranes</th>\n",
              "      <td>NaN</td>\n",
              "      <td>2</td>\n",
              "      <td>yes</td>\n",
              "    </tr>\n",
              "    <tr>\n",
              "      <th>spoonbills</th>\n",
              "      <td>8.0</td>\n",
              "      <td>3</td>\n",
              "      <td>no</td>\n",
              "    </tr>\n",
              "    <tr>\n",
              "      <th>spoonbills</th>\n",
              "      <td>4.0</td>\n",
              "      <td>2</td>\n",
              "      <td>no</td>\n",
              "    </tr>\n",
              "    <tr>\n",
              "      <th>Cranes</th>\n",
              "      <td>3.5</td>\n",
              "      <td>2</td>\n",
              "      <td>yes</td>\n",
              "    </tr>\n",
              "  </tbody>\n",
              "</table>\n",
              "</div>"
            ],
            "text/plain": [
              "            age  visits priority\n",
              "birds                           \n",
              "Cranes      3.5       2      yes\n",
              "Cranes      4.0       4      yes\n",
              "plovers     1.5       3       no\n",
              "spoonbills  NaN       4      NaN\n",
              "spoonbills  6.0       3       no\n",
              "Cranes      3.0       4       no\n",
              "plovers     5.5       2       no\n",
              "Cranes      NaN       2      yes\n",
              "spoonbills  8.0       3       no\n",
              "spoonbills  4.0       2       no\n",
              "Cranes      3.5       2      yes"
            ]
          },
          "execution_count": 13,
          "metadata": {},
          "output_type": "execute_result"
        }
      ],
      "source": [
        "bird = pd.DataFrame(data)\n",
        "bird.set_index('birds')"
      ]
    },
    {
      "cell_type": "markdown",
      "metadata": {
        "id": "06X1G_sbbe2K"
      },
      "source": [
        "###`Q-2:`\n",
        "i. Show only rows [1st, 3rd, 7th] from columns ['bird', 'age']\n",
        "\n",
        "ii. Select rows where the number of visits is less than 4."
      ]
    },
    {
      "cell_type": "code",
      "execution_count": null,
      "metadata": {
        "id": "5ceryOqrbhB6"
      },
      "outputs": [],
      "source": [
        "# code here"
      ]
    },
    {
      "cell_type": "markdown",
      "metadata": {
        "id": "biVrhUo2biZm"
      },
      "source": [
        "###`Q-3:`\n",
        "i. Select all rows with nan values in age and visits column.\n",
        "\n",
        "ii. Fill nan with respective series mode value."
      ]
    },
    {
      "cell_type": "code",
      "execution_count": null,
      "metadata": {
        "id": "Qe8KrN_UbkPW"
      },
      "outputs": [],
      "source": [
        "# code here"
      ]
    },
    {
      "cell_type": "markdown",
      "metadata": {
        "id": "PcYTOjqUblrF"
      },
      "source": [
        "###`Q-4`\n",
        "i. Find the total number of visits of the bird Cranes\n",
        "\n",
        "ii. Find the number of each type of birds in dataframe.\n",
        "\n",
        "iii. Print no of duplicate rows\n",
        "\n",
        "iv. Drop Duplicates rows and make this changes permanent. Show dataframe after changes."
      ]
    },
    {
      "cell_type": "code",
      "execution_count": null,
      "metadata": {
        "id": "O92x1vp0bngT"
      },
      "outputs": [],
      "source": [
        "# code here"
      ]
    },
    {
      "cell_type": "markdown",
      "metadata": {
        "id": "sqOZLR5YbpD3"
      },
      "source": [
        "##Question on IPL Data\n",
        "\n",
        "IPL Data Link :  https://drive.google.com/file/d/1yKVUuexl6lIKuFQy7uIPgDgXhJ0L4SIg/view?usp=share_link\n",
        "\n",
        "https://www.kaggle.com/datasets/vora1011/ipl-2008-to-2021-all-match-dataset?select=IPL_Matches_2008_2022.csv\n",
        "\n",
        "Download ipl matches 2008-2022 file."
      ]
    },
    {
      "cell_type": "markdown",
      "metadata": {
        "id": "MCNrLdLxbvuq"
      },
      "source": [
        "###`Q-5:` In IPL matches dataset some teams name has changed.\n",
        "You will have to consider them as same.\n",
        "```\n",
        "'Delhi Capitals' formerly as 'Delhi Daredevils'\n",
        "'Punjab Kings' formerly as 'Kings XI Punjab'\n",
        "'Rising Pune Supergiant' formerly as 'Rising Pune Supergiants'\n",
        "```\n",
        "You need to make changes accordingly. Consider current name for each teams.\n",
        "\n",
        "Be careful Gujrat Titans and Gujrat Lions are different teams."
      ]
    },
    {
      "cell_type": "code",
      "execution_count": null,
      "metadata": {
        "id": "gf1uEhRlbunm"
      },
      "outputs": [],
      "source": [
        "# code here"
      ]
    },
    {
      "cell_type": "markdown",
      "metadata": {
        "id": "vL5TaqJxbzUd"
      },
      "source": [
        "###`Q-6` Write a code which can display the bar chart of top 5 teams who have played maximum number of matches in the IPL.\n",
        ">  Hint: Be careful the data is divided in 2 different cols(Team 1 and Team 2)\n"
      ]
    },
    {
      "cell_type": "code",
      "execution_count": null,
      "metadata": {
        "id": "wqUs7AFbb1x_"
      },
      "outputs": [],
      "source": [
        "# code here"
      ]
    },
    {
      "cell_type": "markdown",
      "metadata": {
        "id": "VORfLMaVb3E2"
      },
      "source": [
        "###`Q-7:` Player who got Most no. of player of the match award playing against Mumbai Indians.\n",
        "> Just for this question assume player of the match award is given to players from winning team. Although this is true in most of the cases.\n"
      ]
    },
    {
      "cell_type": "code",
      "execution_count": null,
      "metadata": {
        "id": "9e5ZROJgb5ie"
      },
      "outputs": [],
      "source": [
        "# code here"
      ]
    },
    {
      "cell_type": "markdown",
      "metadata": {
        "id": "cFLzm0egb7AT"
      },
      "source": [
        "###`Q-8:` Team1 vs Team2 Dashbord\n",
        "Create a function which will take two string(name of two teams) as input. Show win Loss record between them and player getting most player of the match award in matches between these two teams.\n",
        "```\n",
        "team1_vs_team2('Kolkata Knight Riders','Chennai Super Kings')\n",
        "```"
      ]
    },
    {
      "cell_type": "code",
      "execution_count": null,
      "metadata": {
        "id": "2szkRN5Ab9Py"
      },
      "outputs": [],
      "source": [
        "# code here"
      ]
    },
    {
      "cell_type": "markdown",
      "metadata": {
        "id": "sb0c3Gc1b-bd"
      },
      "source": [
        "### `Q-9:` Find out the top 7 cities where the matches of Kolkata Knight Riders are played frequently and plot the result as bar chart.\n",
        "\n",
        "*`.plot(kind = \"bar\")` can help you to plot the bar chart. Also you can learn more about this method from [here](https://pandas.pydata.org/docs/reference/api/pandas.DataFrame.plot.html)*\n",
        "\n"
      ]
    },
    {
      "cell_type": "code",
      "execution_count": null,
      "metadata": {
        "id": "FH-Pq14ncAZy"
      },
      "outputs": [],
      "source": [
        "# code here"
      ]
    },
    {
      "cell_type": "markdown",
      "metadata": {
        "id": "NPiPNoJUcBmk"
      },
      "source": [
        "### `Q-10:` Find out the average margin for the team Mumbai Indians for only the session 2011."
      ]
    },
    {
      "cell_type": "code",
      "execution_count": null,
      "metadata": {
        "id": "WPbS12ThcEAj"
      },
      "outputs": [],
      "source": [
        "# code here"
      ]
    }
  ],
  "metadata": {
    "colab": {
      "provenance": []
    },
    "kernelspec": {
      "display_name": "Python 3",
      "name": "python3"
    },
    "language_info": {
      "codemirror_mode": {
        "name": "ipython",
        "version": 3
      },
      "file_extension": ".py",
      "mimetype": "text/x-python",
      "name": "python",
      "nbconvert_exporter": "python",
      "pygments_lexer": "ipython3",
      "version": "3.11.5"
    }
  },
  "nbformat": 4,
  "nbformat_minor": 0
}
